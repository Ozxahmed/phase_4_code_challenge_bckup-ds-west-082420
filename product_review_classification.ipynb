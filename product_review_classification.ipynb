{
 "cells": [
  {
   "cell_type": "markdown",
   "metadata": {},
   "source": [
    "# Product Review Classification\n",
    "\n",
    "## Business Understanding\n",
    "Our company wants a tool that will automatically classify product reviews as _positive_ or _negative_ reviews, based on the features of the review.  This will help our Product team to perform more sophisticated analyses in the future to help ensure customer satisfaction.\n",
    "\n",
    "## Data Understanding\n",
    "We have a labeled collection of 20,000 product reviews, with an equal split of positive and negative reviews. The dataset contains the following features:\n",
    "\n",
    " - `ProductId` Unique identifier for the product\n",
    " - `UserId` Unqiue identifier for the user\n",
    " - `ProfileName` Profile name of the user\n",
    " - `HelpfulnessNumerator` Number of users who found the review helpful\n",
    " - `HelpfulnessDenominator` Number of users who indicated whether they found the review helpful or not\n",
    " - `Time` Timestamp for the review\n",
    " - `Summary` Brief summary of the review\n",
    " - `Text` Text of the review\n",
    " - `PositiveReview` 1 if this was labeled as a positive review, 0 if it was labeled as a negative review"
   ]
  },
  {
   "cell_type": "code",
   "execution_count": 117,
   "metadata": {},
   "outputs": [],
   "source": [
    "import pandas as pd\n",
    "import numpy as np\n",
    "import itertools\n",
    "import matplotlib.pyplot as plt\n",
    "from sklearn.model_selection import train_test_split\n",
    "from sklearn.feature_extraction.text import TfidfVectorizer\n",
    "from sklearn.preprocessing import OneHotEncoder, FunctionTransformer\n",
    "from sklearn.compose import ColumnTransformer\n",
    "from sklearn.pipeline import Pipeline\n",
    "from sklearn.ensemble import RandomForestClassifier\n",
    "from sklearn.metrics import confusion_matrix, accuracy_score, plot_confusion_matrix"
   ]
  },
  {
   "cell_type": "code",
   "execution_count": 126,
   "metadata": {},
   "outputs": [],
   "source": [
    "cm_plot_labels = ['negative_review','positive_review']\n",
    "\n",
    "def plot_confusion_matrix_nn(cm, classes=cm_plot_labels,\n",
    "                        normalize=False,\n",
    "                        title='Confusion matrix',\n",
    "                        cmap=plt.cm.Blues):\n",
    "    \"\"\"\n",
    "    This function prints and plots the confusion matrix.\n",
    "    Normalization can be applied by setting `normalize=True`.\n",
    "    \"\"\"\n",
    "    plt.imshow(cm, interpolation='nearest', cmap=cmap)\n",
    "    plt.title(title)\n",
    "    plt.colorbar()\n",
    "    tick_marks = np.arange(len(classes))\n",
    "    plt.xticks(tick_marks, classes, rotation=45)\n",
    "    plt.yticks(tick_marks, classes)\n",
    "\n",
    "    if normalize:\n",
    "        cm = cm.astype('float') / cm.sum(axis=1)[:, np.newaxis]\n",
    "        print(\"Normalized confusion matrix\")\n",
    "    else:\n",
    "        print('Confusion matrix, without normalization')\n",
    "\n",
    "    print(cm)\n",
    "\n",
    "    thresh = cm.max() / 2.\n",
    "    for i, j in itertools.product(range(cm.shape[0]), range(cm.shape[1])):\n",
    "        plt.text(j, i, cm[i, j],\n",
    "            horizontalalignment=\"center\",\n",
    "            color=\"white\" if cm[i, j] > thresh else \"black\")\n",
    "\n",
    "    plt.tight_layout()\n",
    "    plt.ylabel('True label')\n",
    "    plt.xlabel('Predicted label')"
   ]
  },
  {
   "cell_type": "code",
   "execution_count": 105,
   "metadata": {},
   "outputs": [
    {
     "data": {
      "text/html": [
       "<div>\n",
       "<style scoped>\n",
       "    .dataframe tbody tr th:only-of-type {\n",
       "        vertical-align: middle;\n",
       "    }\n",
       "\n",
       "    .dataframe tbody tr th {\n",
       "        vertical-align: top;\n",
       "    }\n",
       "\n",
       "    .dataframe thead th {\n",
       "        text-align: right;\n",
       "    }\n",
       "</style>\n",
       "<table border=\"1\" class=\"dataframe\">\n",
       "  <thead>\n",
       "    <tr style=\"text-align: right;\">\n",
       "      <th></th>\n",
       "      <th>ProductId</th>\n",
       "      <th>UserId</th>\n",
       "      <th>ProfileName</th>\n",
       "      <th>HelpfulnessNumerator</th>\n",
       "      <th>HelpfulnessDenominator</th>\n",
       "      <th>Time</th>\n",
       "      <th>Summary</th>\n",
       "      <th>Text</th>\n",
       "      <th>PositiveReview</th>\n",
       "    </tr>\n",
       "  </thead>\n",
       "  <tbody>\n",
       "    <tr>\n",
       "      <th>0</th>\n",
       "      <td>B002QWHJOU</td>\n",
       "      <td>A37565LZHTG1VH</td>\n",
       "      <td>C. Maltese</td>\n",
       "      <td>1</td>\n",
       "      <td>1</td>\n",
       "      <td>1305331200</td>\n",
       "      <td>Awesome!</td>\n",
       "      <td>This is a great product. My 2 year old Golden ...</td>\n",
       "      <td>1</td>\n",
       "    </tr>\n",
       "    <tr>\n",
       "      <th>1</th>\n",
       "      <td>B000ESLJ6C</td>\n",
       "      <td>AMUAWXDJHE4D2</td>\n",
       "      <td>angieseashore</td>\n",
       "      <td>1</td>\n",
       "      <td>1</td>\n",
       "      <td>1320710400</td>\n",
       "      <td>Was there a recipe change?</td>\n",
       "      <td>I have been drinking Pero ever since I was a l...</td>\n",
       "      <td>0</td>\n",
       "    </tr>\n",
       "    <tr>\n",
       "      <th>2</th>\n",
       "      <td>B004IJJQK4</td>\n",
       "      <td>AMHHNAFJ9L958</td>\n",
       "      <td>A M</td>\n",
       "      <td>0</td>\n",
       "      <td>1</td>\n",
       "      <td>1321747200</td>\n",
       "      <td>These taste so bland.</td>\n",
       "      <td>Look, each pack contains two servings of 120 c...</td>\n",
       "      <td>0</td>\n",
       "    </tr>\n",
       "  </tbody>\n",
       "</table>\n",
       "</div>"
      ],
      "text/plain": [
       "    ProductId          UserId    ProfileName  HelpfulnessNumerator  \\\n",
       "0  B002QWHJOU  A37565LZHTG1VH     C. Maltese                     1   \n",
       "1  B000ESLJ6C   AMUAWXDJHE4D2  angieseashore                     1   \n",
       "2  B004IJJQK4   AMHHNAFJ9L958            A M                     0   \n",
       "\n",
       "   HelpfulnessDenominator        Time                     Summary  \\\n",
       "0                       1  1305331200                    Awesome!   \n",
       "1                       1  1320710400  Was there a recipe change?   \n",
       "2                       1  1321747200       These taste so bland.   \n",
       "\n",
       "                                                Text  PositiveReview  \n",
       "0  This is a great product. My 2 year old Golden ...               1  \n",
       "1  I have been drinking Pero ever since I was a l...               0  \n",
       "2  Look, each pack contains two servings of 120 c...               0  "
      ]
     },
     "execution_count": 105,
     "metadata": {},
     "output_type": "execute_result"
    }
   ],
   "source": [
    "df = pd.read_csv(\"reviews.csv\")\n",
    "df.head(3)"
   ]
  },
  {
   "cell_type": "markdown",
   "metadata": {},
   "source": [
    "The data has already been cleaned, so there are no missing values"
   ]
  },
  {
   "cell_type": "code",
   "execution_count": 106,
   "metadata": {},
   "outputs": [
    {
     "data": {
      "text/plain": [
       "(20000, 9)"
      ]
     },
     "execution_count": 106,
     "metadata": {},
     "output_type": "execute_result"
    }
   ],
   "source": [
    "df.shape"
   ]
  },
  {
   "cell_type": "code",
   "execution_count": 107,
   "metadata": {},
   "outputs": [
    {
     "name": "stdout",
     "output_type": "stream",
     "text": [
      "<class 'pandas.core.frame.DataFrame'>\n",
      "RangeIndex: 20000 entries, 0 to 19999\n",
      "Data columns (total 9 columns):\n",
      " #   Column                  Non-Null Count  Dtype \n",
      "---  ------                  --------------  ----- \n",
      " 0   ProductId               20000 non-null  object\n",
      " 1   UserId                  20000 non-null  object\n",
      " 2   ProfileName             20000 non-null  object\n",
      " 3   HelpfulnessNumerator    20000 non-null  int64 \n",
      " 4   HelpfulnessDenominator  20000 non-null  int64 \n",
      " 5   Time                    20000 non-null  int64 \n",
      " 6   Summary                 20000 non-null  object\n",
      " 7   Text                    20000 non-null  object\n",
      " 8   PositiveReview          20000 non-null  int64 \n",
      "dtypes: int64(4), object(5)\n",
      "memory usage: 1.4+ MB\n"
     ]
    }
   ],
   "source": [
    "df.info()"
   ]
  },
  {
   "cell_type": "code",
   "execution_count": 108,
   "metadata": {},
   "outputs": [
    {
     "data": {
      "text/plain": [
       "ProductId                 0\n",
       "UserId                    0\n",
       "ProfileName               0\n",
       "HelpfulnessNumerator      0\n",
       "HelpfulnessDenominator    0\n",
       "Time                      0\n",
       "Summary                   0\n",
       "Text                      0\n",
       "PositiveReview            0\n",
       "dtype: int64"
      ]
     },
     "execution_count": 108,
     "metadata": {},
     "output_type": "execute_result"
    }
   ],
   "source": [
    "df.isna().sum()"
   ]
  },
  {
   "cell_type": "markdown",
   "metadata": {},
   "source": [
    "`PositiveReview` is the target, and all other columns are features"
   ]
  },
  {
   "cell_type": "code",
   "execution_count": 109,
   "metadata": {},
   "outputs": [],
   "source": [
    "X = df.drop(\"PositiveReview\", axis=1)\n",
    "y = df[\"PositiveReview\"]"
   ]
  },
  {
   "cell_type": "markdown",
   "metadata": {},
   "source": [
    "## Data Preparation\n",
    "\n",
    "First, split into train and test sets"
   ]
  },
  {
   "cell_type": "code",
   "execution_count": 110,
   "metadata": {},
   "outputs": [
    {
     "data": {
      "text/plain": [
       "(15000, 8)"
      ]
     },
     "execution_count": 110,
     "metadata": {},
     "output_type": "execute_result"
    }
   ],
   "source": [
    "X_train, X_test, y_train, y_test = train_test_split(X, y, random_state=42)\n",
    "X_train.shape"
   ]
  },
  {
   "cell_type": "markdown",
   "metadata": {},
   "source": [
    "Second, prepare for modeling. The following `Pipeline` prepares all data for modeling.  It one-hot encodes the `ProductId`, applies a tf-idf vectorizer to the `Summary` and `Text`, keeps the numeric columns as-is, and drops all other columns.\n",
    "\n",
    "The following code may take up to 1 minute to run."
   ]
  },
  {
   "cell_type": "code",
   "execution_count": 111,
   "metadata": {},
   "outputs": [
    {
     "data": {
      "text/plain": [
       "(15000, 11275)"
      ]
     },
     "execution_count": 111,
     "metadata": {},
     "output_type": "execute_result"
    }
   ],
   "source": [
    "def drop_irrelevant_columns(X):\n",
    "    return X.drop([\"UserId\", \"ProfileName\"], axis=1)\n",
    "\n",
    "pipeline = Pipeline(steps=[\n",
    "    (\"drop_columns\", FunctionTransformer(drop_irrelevant_columns)),\n",
    "    (\"transform_text_columns\", ColumnTransformer(transformers=[\n",
    "        (\"ohe\", OneHotEncoder(categories=\"auto\", handle_unknown=\"ignore\", sparse=False), [\"ProductId\"]),\n",
    "        (\"summary-tf-idf\", TfidfVectorizer(max_features=1000), \"Summary\"),\n",
    "        (\"text-tf-idf\", TfidfVectorizer(max_features=1000), \"Text\")\n",
    "    ], remainder=\"passthrough\"))\n",
    "])\n",
    "\n",
    "X_train_transformed = pipeline.fit_transform(X_train)\n",
    "X_test_transformed = pipeline.transform(X_test)\n",
    "\n",
    "X_train_transformed.shape"
   ]
  },
  {
   "cell_type": "markdown",
   "metadata": {},
   "source": [
    "## Modeling\n",
    "\n",
    "Fit a `RandomForestClassifier` with the best hyperparameters.  The following code may take up to 1 minute to run."
   ]
  },
  {
   "cell_type": "code",
   "execution_count": 112,
   "metadata": {},
   "outputs": [
    {
     "data": {
      "text/plain": [
       "RandomForestClassifier(max_depth=30, min_samples_split=15, random_state=42)"
      ]
     },
     "execution_count": 112,
     "metadata": {},
     "output_type": "execute_result"
    }
   ],
   "source": [
    "rfc = RandomForestClassifier(\n",
    "    random_state=42,\n",
    "    n_estimators=100,\n",
    "    max_depth=30,\n",
    "    min_samples_split=15,\n",
    "    min_samples_leaf=1\n",
    ")\n",
    "rfc.fit(X_train_transformed, y_train)"
   ]
  },
  {
   "cell_type": "markdown",
   "metadata": {},
   "source": [
    "## Model Evaluation\n",
    "\n",
    "We are using _accuracy_ as our metric, which is the default metric in Scikit-Learn, so it is possible to just use the built-in `.score` method"
   ]
  },
  {
   "cell_type": "code",
   "execution_count": 113,
   "metadata": {},
   "outputs": [
    {
     "name": "stdout",
     "output_type": "stream",
     "text": [
      "Train accuracy: 0.9846666666666667\n",
      "Test accuracy: 0.9116\n"
     ]
    }
   ],
   "source": [
    "print(\"Train accuracy:\", rfc.score(X_train_transformed, y_train))\n",
    "print(\"Test accuracy:\", rfc.score(X_test_transformed, y_test))"
   ]
  },
  {
   "cell_type": "code",
   "execution_count": 114,
   "metadata": {},
   "outputs": [
    {
     "name": "stdout",
     "output_type": "stream",
     "text": [
      "Train confusion matrix:\n",
      "[[7323  166]\n",
      " [  64 7447]]\n",
      "Test confusion matrix:\n",
      "[[2286  225]\n",
      " [ 217 2272]]\n"
     ]
    }
   ],
   "source": [
    "print(\"Train confusion matrix:\")\n",
    "print(confusion_matrix(y_train, rfc.predict(X_train_transformed)))\n",
    "print(\"Test confusion matrix:\")\n",
    "print(confusion_matrix(y_test, rfc.predict(X_test_transformed)))"
   ]
  },
  {
   "cell_type": "code",
   "execution_count": 119,
   "metadata": {},
   "outputs": [
    {
     "data": {
      "image/png": "[encoded data removed]",
      "text/plain": [
       "<Figure size 432x288 with 2 Axes>"
      ]
     },
     "metadata": {
      "needs_background": "light"
     },
     "output_type": "display_data"
    }
   ],
   "source": [
    "plot_confusion_matrix(rfc, X_test_transformed, y_test);"
   ]
  },
  {
   "cell_type": "markdown",
   "metadata": {},
   "source": [
    "## Business Interpretation\n",
    "\n",
    "The tuned Random Forest Classifier model appears to be somewhat overfit on the training data, but nevertheless achieves 91% accuracy on the test data.  Of the 9% of mislabeled comments, about half are false positives and half are false negatives.\n",
    "\n",
    "Because this is a balanced dataset, 91% accuracy is a substantial improvement over a 50% baseline.  This model is ready for production use for decision support."
   ]
  },
  {
   "cell_type": "markdown",
   "metadata": {},
   "source": [
    "### 1) Data Preparation\n",
    "A train-test split has already been performed.\n",
    "Additionally, there is already a pipeline in place that drops some columns and converts all text columns into a numeric format for modeling.\n",
    "**Your only additional data preparation task is feature scaling.**  Tree-based models like Random Forest Classifiers do not require scaling, but TensorFlow neural networks do.\n",
    "There are two main strategies you can take for this task:\n",
    "#### Scaling within the existing pipeline\n",
    "If you are comfortable with pipelines, this is the more polished/professional route.\n",
    "1. Make a new pipeline, with a `StandardScaler` as the final step.  You can nest the steps of the previous pipeline inside of this new pipeline\n",
    "2. Generate a new `X_train_transformed_scaled` by calling `.fit_transform` on the new pipeline\n",
    "3. Generate a new `X_test_transformed_scaled` by calling `.transform` on the new pipeline\n",
    "#### Scaling after the pipeline has finished\n",
    "This is a better strategy if you are not as comfortable with pipelines.\n",
    "1. Instantiate a `StandardScaler` object\n",
    "2. Generate a new `X_train_transformed_scaled` by calling `.fit_transform` on the scaler object, after you have called `.fit_transform` on the pipeline\n",
    "3. Generate a new `X_test_transformed_scaled` by calling `.transform` on the scaler object, after you have called `.transform` on the pipeline\n",
    "If you are getting stuck at this step, skip it.  The model will still be able to fit, although the performance will be worse.  Keep in mind whether or not you scaled the data in your final analysis."
   ]
  },
  {
   "cell_type": "code",
   "execution_count": 13,
   "metadata": {},
   "outputs": [],
   "source": [
    "from sklearn.preprocessing import StandardScaler\n",
    "\n",
    "ss = StandardScaler()\n",
    "\n",
    "X_train_transformed_scaled = ss.fit_transform(X_train_transformed)\n",
    "\n",
    "X_test_transformed_scaled = ss.transform(X_test_transformed)"
   ]
  },
  {
   "cell_type": "code",
   "execution_count": 16,
   "metadata": {},
   "outputs": [
    {
     "data": {
      "text/plain": [
       "(15000, 11275)"
      ]
     },
     "execution_count": 16,
     "metadata": {},
     "output_type": "execute_result"
    }
   ],
   "source": [
    "X_train_transformed_scaled.shape"
   ]
  },
  {
   "cell_type": "markdown",
   "metadata": {},
   "source": [
    "### 2) Modeling\n",
    "Build a neural network classifier.  Specifically, use the `keras` submodule of the `tensorflow` library to build a multi-layer perceptron model with the `Sequential` interface.\n",
    "See the [`tf.keras` documentation](https://www.tensorflow.org/guide/keras/overview) for an overview on the use of `Sequential` models. See the [Keras layers documentation](https://keras.io/layers/core/) for descriptions of the `Dense` layer options.  \n",
    "1. Instantiate a `Sequential` model\n",
    "2. Add an input `Dense` layer.  You'll need to specify a `input_shape` = (11275,) because this is the number of features of the transformed dataset.\n",
    "3. Add 2 `Dense` hidden layers.  They can have any number of units, but keep in mind that more units will require more processing power.  We recommend an initial `units` of 64 for processing power reasons.\n",
    "4. Add a final `Dense` output layer.  This layer must have exactly 1 unit because we are doing a binary prediction task.\n",
    "5. Compile the `Sequential` model\n",
    "6. Fit the `Sequential` model on the preprocessed training data (`X_train_transformed_scaled`) with a b`batch_size` of 50 and `epochs` of 5 for processing power reasons."
   ]
  },
  {
   "cell_type": "code",
   "execution_count": 30,
   "metadata": {},
   "outputs": [],
   "source": [
    "from tensorflow.keras.models import Sequential\n",
    "from tensorflow.keras.layers import Dense"
   ]
  },
  {
   "cell_type": "code",
   "execution_count": 30,
   "metadata": {},
   "outputs": [
    {
     "name": "stdout",
     "output_type": "stream",
     "text": [
      "Epoch 1/5\n",
      "300/300 [==============================] - 1s 2ms/step - loss: 0.4694 - accuracy: 0.0000e+00\n",
      "Epoch 2/5\n",
      "300/300 [==============================] - 0s 2ms/step - loss: 0.2405 - accuracy: 0.0000e+00\n",
      "Epoch 3/5\n",
      "300/300 [==============================] - 1s 2ms/step - loss: 0.1492 - accuracy: 0.0000e+00\n",
      "Epoch 4/5\n",
      "300/300 [==============================] - 0s 2ms/step - loss: 0.1157 - accuracy: 0.0032\n",
      "Epoch 5/5\n",
      "300/300 [==============================] - 1s 2ms/step - loss: 0.1014 - accuracy: 0.0209\n"
     ]
    },
    {
     "data": {
      "text/plain": [
       "<tensorflow.python.keras.callbacks.History at 0x7fb67e2aad60>"
      ]
     },
     "execution_count": 30,
     "metadata": {},
     "output_type": "execute_result"
    }
   ],
   "source": [
    "# fsm model\n",
    "\n",
    "model = model_fsm = Sequential()\n",
    "\n",
    "\n",
    "model.add(Dense(units=6, activation='relu', input_shape=(X_train_transformed_scaled.shape[1],)))\n",
    "model.add(Dense(units=64, activation='relu'))\n",
    "model.add(Dense(units=64, activation='relu'))\n",
    "model.add(Dense(units=1, activation='sigmoid'))\n",
    "model.compile(optimizer=\"Adam\", loss='binary_crossentropy', metrics=['Accuracy'])\n",
    "model.fit(X_train_transformed_scaled, y_train, batch_size=50, epochs=5)"
   ]
  },
  {
   "cell_type": "markdown",
   "metadata": {},
   "source": [
    "### 3) Model Tuning + Feature Engineering\n",
    "If you are running out of time, skip this step.\n",
    "Tune the neural network model to improve performance.  This could include steps such as increasing the units, changing the activation functions, or adding regularization.\n",
    "We recommend using using a `validation_split` of 0.1 to understand model performance without utilizing the test holdout set.\n",
    "You can also return to the preprocessing phase, and add additional features to the model."
   ]
  },
  {
   "cell_type": "code",
   "execution_count": 78,
   "metadata": {},
   "outputs": [
    {
     "name": "stdout",
     "output_type": "stream",
     "text": [
      "Epoch 1/5\n",
      "270/270 [==============================] - 1s 5ms/step - loss: 0.4659 - accuracy: 0.0000e+00 - val_loss: 0.4792 - val_accuracy: 0.0000e+00\n",
      "Epoch 2/5\n",
      "270/270 [==============================] - 0s 2ms/step - loss: 0.2419 - accuracy: 0.0000e+00 - val_loss: 0.3634 - val_accuracy: 0.0000e+00\n",
      "Epoch 3/5\n",
      "270/270 [==============================] - 0s 2ms/step - loss: 0.1481 - accuracy: 0.0000e+00 - val_loss: 0.3659 - val_accuracy: 6.6667e-04\n",
      "Epoch 4/5\n",
      "270/270 [==============================] - 0s 2ms/step - loss: 0.1115 - accuracy: 0.0051 - val_loss: 0.3713 - val_accuracy: 0.0087\n",
      "Epoch 5/5\n",
      "270/270 [==============================] - 0s 2ms/step - loss: 0.0969 - accuracy: 0.0295 - val_loss: 0.3918 - val_accuracy: 0.0287\n"
     ]
    },
    {
     "data": {
      "text/plain": [
       "<tensorflow.python.keras.callbacks.History at 0x7fb4f3cac2e0>"
      ]
     },
     "execution_count": 78,
     "metadata": {},
     "output_type": "execute_result"
    }
   ],
   "source": [
    "# model 1\n",
    "\n",
    "model = model_1 = Sequential()\n",
    "\n",
    "\n",
    "model.add(Dense(units=6, activation='relu', input_shape=(X_train_transformed_scaled.shape[1],)))\n",
    "model.add(Dense(units=64, activation='relu'))\n",
    "model.add(Dense(units=64, activation='relu'))\n",
    "model.add(Dense(units=1, activation='sigmoid'))\n",
    "model.compile(optimizer=\"adam\", loss='binary_crossentropy', metrics=['Accuracy'])\n",
    "model.fit(X_train_transformed_scaled, y_train, validation_split=0.1, batch_size=50, epochs=5)"
   ]
  },
  {
   "cell_type": "code",
   "execution_count": 79,
   "metadata": {},
   "outputs": [
    {
     "name": "stdout",
     "output_type": "stream",
     "text": [
      "Epoch 1/5\n",
      "270/270 [==============================] - 1s 3ms/step - loss: 0.4851 - accuracy: 0.0000e+00 - val_loss: 0.3240 - val_accuracy: 0.0000e+00\n",
      "Epoch 2/5\n",
      "270/270 [==============================] - 0s 2ms/step - loss: 0.1818 - accuracy: 0.0000e+00 - val_loss: 0.2621 - val_accuracy: 0.0000e+00\n",
      "Epoch 3/5\n",
      "270/270 [==============================] - 0s 2ms/step - loss: 0.0593 - accuracy: 0.0000e+00 - val_loss: 0.3911 - val_accuracy: 0.0000e+00\n",
      "Epoch 4/5\n",
      "270/270 [==============================] - 1s 2ms/step - loss: 0.0354 - accuracy: 0.0000e+00 - val_loss: 0.5615 - val_accuracy: 0.0000e+00\n",
      "Epoch 5/5\n",
      "270/270 [==============================] - 0s 2ms/step - loss: 0.0288 - accuracy: 5.9259e-04 - val_loss: 0.6056 - val_accuracy: 0.0013\n"
     ]
    },
    {
     "data": {
      "text/plain": [
       "<tensorflow.python.keras.callbacks.History at 0x7fb4f4b84250>"
      ]
     },
     "execution_count": 79,
     "metadata": {},
     "output_type": "execute_result"
    }
   ],
   "source": [
    "# model 2\n",
    "\n",
    "model = model_2 = Sequential()\n",
    "\n",
    "\n",
    "model.add(Dense(units=4, activation='relu', input_shape=(X_train_transformed_scaled.shape[1],)))\n",
    "model.add(Dense(units=64, activation='relu'))\n",
    "model.add(Dense(units=64, activation='relu'))\n",
    "model.add(Dense(units=1, activation='sigmoid'))\n",
    "model.compile(optimizer=\"adam\", loss='binary_crossentropy', metrics=['Accuracy'])\n",
    "model.fit(X_train_transformed_scaled, y_train, validation_split=0.1, batch_size=50, epochs=5)"
   ]
  },
  {
   "cell_type": "code",
   "execution_count": 80,
   "metadata": {},
   "outputs": [
    {
     "name": "stdout",
     "output_type": "stream",
     "text": [
      "Epoch 1/5\n",
      "270/270 [==============================] - 1s 4ms/step - loss: 0.4367 - accuracy: 0.0000e+00 - val_loss: 0.3118 - val_accuracy: 0.0000e+00\n",
      "Epoch 2/5\n",
      "270/270 [==============================] - 0s 2ms/step - loss: 0.2372 - accuracy: 0.0000e+00 - val_loss: 0.2620 - val_accuracy: 0.0000e+00\n",
      "Epoch 3/5\n",
      "270/270 [==============================] - 0s 2ms/step - loss: 0.1644 - accuracy: 0.0000e+00 - val_loss: 0.2477 - val_accuracy: 0.0000e+00\n",
      "Epoch 4/5\n",
      "270/270 [==============================] - 1s 2ms/step - loss: 0.1316 - accuracy: 9.6296e-04 - val_loss: 0.2534 - val_accuracy: 0.0000e+00\n",
      "Epoch 5/5\n",
      "270/270 [==============================] - 0s 2ms/step - loss: 0.1095 - accuracy: 0.0037 - val_loss: 0.2470 - val_accuracy: 0.0027\n"
     ]
    },
    {
     "data": {
      "text/plain": [
       "<tensorflow.python.keras.callbacks.History at 0x7fb4f50f8640>"
      ]
     },
     "execution_count": 80,
     "metadata": {},
     "output_type": "execute_result"
    }
   ],
   "source": [
    "# model 3\n",
    "\n",
    "model = model_3 = Sequential()\n",
    "\n",
    "\n",
    "model.add(Dense(units=4, activation='relu', input_shape=(X_train_transformed_scaled.shape[1],)))\n",
    "model.add(Dense(units=64, activation='relu'))\n",
    "model.add(Dense(units=64, activation='relu'))\n",
    "model.add(Dense(units=1, activation='sigmoid'))\n",
    "model.compile(optimizer=\"rmsprop\", loss='binary_crossentropy', metrics=['Accuracy'])\n",
    "model.fit(X_train_transformed_scaled, y_train, validation_split=0.1, batch_size=50, epochs=5)"
   ]
  },
  {
   "cell_type": "code",
   "execution_count": 81,
   "metadata": {},
   "outputs": [
    {
     "name": "stdout",
     "output_type": "stream",
     "text": [
      "Epoch 1/5\n",
      "270/270 [==============================] - 1s 2ms/step - loss: 0.3554 - accuracy: 0.0000e+00 - val_loss: 0.2460 - val_accuracy: 0.0000e+00\n",
      "Epoch 2/5\n",
      "270/270 [==============================] - 0s 2ms/step - loss: 0.0498 - accuracy: 0.0106 - val_loss: 0.2537 - val_accuracy: 0.0080\n",
      "Epoch 3/5\n",
      "270/270 [==============================] - 0s 2ms/step - loss: 0.0098 - accuracy: 0.0672 - val_loss: 0.2962 - val_accuracy: 0.0407\n",
      "Epoch 4/5\n",
      "270/270 [==============================] - 0s 2ms/step - loss: 0.0027 - accuracy: 0.1518 - val_loss: 0.3480 - val_accuracy: 0.0840\n",
      "Epoch 5/5\n",
      "270/270 [==============================] - 0s 2ms/step - loss: 0.0011 - accuracy: 0.2272 - val_loss: 0.3685 - val_accuracy: 0.1067\n"
     ]
    },
    {
     "data": {
      "text/plain": [
       "<tensorflow.python.keras.callbacks.History at 0x7fb4f5bd5a00>"
      ]
     },
     "execution_count": 81,
     "metadata": {},
     "output_type": "execute_result"
    }
   ],
   "source": [
    "# model 4\n",
    "\n",
    "model = model_4 = Sequential()\n",
    "\n",
    "\n",
    "model.add(Dense(units=32, activation='relu', input_shape=(X_train_transformed_scaled.shape[1],)))\n",
    "model.add(Dense(units=64, activation='relu'))\n",
    "model.add(Dense(units=64, activation='relu'))\n",
    "model.add(Dense(units=1, activation='sigmoid'))\n",
    "model.compile(optimizer=\"adam\", loss='binary_crossentropy', metrics=['Accuracy'])\n",
    "model.fit(X_train_transformed_scaled, y_train, validation_split=0.1, batch_size=50, epochs=5)"
   ]
  },
  {
   "cell_type": "code",
   "execution_count": 82,
   "metadata": {},
   "outputs": [
    {
     "name": "stdout",
     "output_type": "stream",
     "text": [
      "Epoch 1/5\n",
      "270/270 [==============================] - 1s 3ms/step - loss: 0.3491 - accuracy: 0.0000e+00 - val_loss: 0.2469 - val_accuracy: 0.0000e+00\n",
      "Epoch 2/5\n",
      "270/270 [==============================] - 0s 2ms/step - loss: 0.0576 - accuracy: 0.0074 - val_loss: 0.2568 - val_accuracy: 0.0053\n",
      "Epoch 3/5\n",
      "270/270 [==============================] - 0s 2ms/step - loss: 0.0225 - accuracy: 0.0727 - val_loss: 0.3074 - val_accuracy: 0.0380\n",
      "Epoch 4/5\n",
      "270/270 [==============================] - 1s 2ms/step - loss: 0.0155 - accuracy: 0.1399 - val_loss: 0.3346 - val_accuracy: 0.0747\n",
      "Epoch 5/5\n",
      "270/270 [==============================] - 0s 2ms/step - loss: 0.0141 - accuracy: 0.1677 - val_loss: 0.3522 - val_accuracy: 0.0713\n"
     ]
    },
    {
     "data": {
      "text/plain": [
       "<tensorflow.python.keras.callbacks.History at 0x7fb4f584f910>"
      ]
     },
     "execution_count": 82,
     "metadata": {},
     "output_type": "execute_result"
    }
   ],
   "source": [
    "# model 5\n",
    "\n",
    "from keras import regularizers\n",
    "\n",
    "\n",
    "model = model_5 = Sequential()\n",
    "\n",
    "\n",
    "model.add(Dense(units=32, activation='relu', input_shape=(X_train_transformed_scaled.shape[1],)))\n",
    "model.add(Dense(units=64, activation='relu', kernel_regularizer=regularizers.l1_l2(l1=1e-5, l2=1e-4)))\n",
    "model.add(Dense(units=64, activation='relu', kernel_regularizer=regularizers.l1_l2(l1=1e-5, l2=1e-4)))\n",
    "model.add(Dense(units=1, activation='sigmoid'))\n",
    "model.compile(optimizer=\"adam\", loss='binary_crossentropy', metrics=['Accuracy'])\n",
    "model.fit(X_train_transformed_scaled, y_train, validation_split=0.1, batch_size=50, epochs=5)"
   ]
  },
  {
   "cell_type": "code",
   "execution_count": 83,
   "metadata": {},
   "outputs": [
    {
     "name": "stdout",
     "output_type": "stream",
     "text": [
      "Epoch 1/15\n",
      "540/540 [==============================] - 1s 2ms/step - loss: 0.3604 - accuracy: 0.0000e+00 - val_loss: 0.2152 - val_accuracy: 0.0000e+00\n",
      "Epoch 2/15\n",
      "540/540 [==============================] - 1s 2ms/step - loss: 0.0815 - accuracy: 0.0044 - val_loss: 0.2142 - val_accuracy: 0.0000e+00\n",
      "Epoch 3/15\n",
      "540/540 [==============================] - 1s 2ms/step - loss: 0.0258 - accuracy: 0.0526 - val_loss: 0.2850 - val_accuracy: 0.0300\n",
      "Epoch 4/15\n",
      "540/540 [==============================] - 1s 1ms/step - loss: 0.0110 - accuracy: 0.1817 - val_loss: 0.3637 - val_accuracy: 0.1440\n",
      "Epoch 5/15\n",
      "540/540 [==============================] - 1s 2ms/step - loss: 0.0070 - accuracy: 0.2746 - val_loss: 0.4184 - val_accuracy: 0.2080\n",
      "Epoch 6/15\n",
      "540/540 [==============================] - 1s 1ms/step - loss: 0.0060 - accuracy: 0.3209 - val_loss: 0.4886 - val_accuracy: 0.2673\n",
      "Epoch 7/15\n",
      "540/540 [==============================] - 1s 1ms/step - loss: 0.0082 - accuracy: 0.3310 - val_loss: 0.4711 - val_accuracy: 0.2527\n",
      "Epoch 8/15\n",
      "540/540 [==============================] - 1s 2ms/step - loss: 0.0049 - accuracy: 0.3396 - val_loss: 0.5950 - val_accuracy: 0.3020\n",
      "Epoch 9/15\n",
      "540/540 [==============================] - 1s 1ms/step - loss: 0.0049 - accuracy: 0.3601 - val_loss: 0.7013 - val_accuracy: 0.3300\n",
      "Epoch 10/15\n",
      "540/540 [==============================] - 1s 2ms/step - loss: 0.0086 - accuracy: 0.3545 - val_loss: 0.6002 - val_accuracy: 0.2733\n",
      "Epoch 11/15\n",
      "540/540 [==============================] - 1s 1ms/step - loss: 0.0051 - accuracy: 0.3713 - val_loss: 0.7159 - val_accuracy: 0.3360\n",
      "Epoch 12/15\n",
      "540/540 [==============================] - 1s 2ms/step - loss: 0.0047 - accuracy: 0.3882 - val_loss: 0.7159 - val_accuracy: 0.3267\n",
      "Epoch 13/15\n",
      "540/540 [==============================] - 1s 2ms/step - loss: 0.0032 - accuracy: 0.4174 - val_loss: 0.8487 - val_accuracy: 0.3693\n",
      "Epoch 14/15\n",
      "540/540 [==============================] - 1s 2ms/step - loss: 0.0023 - accuracy: 0.4419 - val_loss: 0.8617 - val_accuracy: 0.3687\n",
      "Epoch 15/15\n",
      "540/540 [==============================] - 1s 1ms/step - loss: 0.0046 - accuracy: 0.4181 - val_loss: 0.8621 - val_accuracy: 0.3633\n"
     ]
    },
    {
     "data": {
      "text/plain": [
       "<tensorflow.python.keras.callbacks.History at 0x7fb4f7039a30>"
      ]
     },
     "execution_count": 83,
     "metadata": {},
     "output_type": "execute_result"
    }
   ],
   "source": [
    "# model 6\n",
    "\n",
    "from keras.layers import Dropout\n",
    "\n",
    "\n",
    "model = model_6 = Sequential()\n",
    "\n",
    "\n",
    "model.add(Dense(units=32, activation='relu', input_shape=(X_train_transformed_scaled.shape[1],)))\n",
    "model.add(Dropout(rate=.25))\n",
    "model.add(Dense(units=64, activation='relu'))\n",
    "model.add(Dense(units=64, activation='relu'))\n",
    "model.add(Dense(units=1, activation='sigmoid'))\n",
    "model.compile(optimizer=\"adam\", loss='binary_crossentropy', metrics=['Accuracy'])\n",
    "model.fit(X_train_transformed_scaled, y_train, validation_split=0.1, batch_size=25, epochs=15)"
   ]
  },
  {
   "cell_type": "markdown",
   "metadata": {},
   "source": [
    "### 4) Model Evaluation\n",
    "Choose a final `Sequential` model, add layers, and compile.  Fit the model on the preprocessed training data (`X_train_transformed_scaled`, `y_train`) and evaluate on the preprocessed testing data (`X_test_transformed_scaled`, `y_test`) using `accuracy_score`."
   ]
  },
  {
   "cell_type": "code",
   "execution_count": 86,
   "metadata": {},
   "outputs": [
    {
     "name": "stdout",
     "output_type": "stream",
     "text": [
      "Epoch 1/15\n",
      "600/600 [==============================] - 4s 6ms/step - loss: 0.3421 - accuracy: 6.6667e-05 - val_loss: 0.2544 - val_accuracy: 4.0000e-04\n",
      "Epoch 2/15\n",
      "600/600 [==============================] - 1s 2ms/step - loss: 0.0803 - accuracy: 0.0096 - val_loss: 0.2378 - val_accuracy: 0.0016\n",
      "Epoch 3/15\n",
      "600/600 [==============================] - 1s 2ms/step - loss: 0.0278 - accuracy: 0.0753 - val_loss: 0.3190 - val_accuracy: 0.0258\n",
      "Epoch 4/15\n",
      "600/600 [==============================] - 1s 2ms/step - loss: 0.0165 - accuracy: 0.1503 - val_loss: 0.3331 - val_accuracy: 0.0634\n",
      "Epoch 5/15\n",
      "600/600 [==============================] - 1s 2ms/step - loss: 0.0120 - accuracy: 0.2247 - val_loss: 0.3769 - val_accuracy: 0.1096\n",
      "Epoch 6/15\n",
      "600/600 [==============================] - 1s 2ms/step - loss: 0.0082 - accuracy: 0.2903 - val_loss: 0.4118 - val_accuracy: 0.1478\n",
      "Epoch 7/15\n",
      "600/600 [==============================] - 1s 2ms/step - loss: 0.0064 - accuracy: 0.3137 - val_loss: 0.4122 - val_accuracy: 0.1666\n",
      "Epoch 8/15\n",
      "600/600 [==============================] - 1s 2ms/step - loss: 0.0069 - accuracy: 0.3336 - val_loss: 0.4386 - val_accuracy: 0.1914\n",
      "Epoch 9/15\n",
      "600/600 [==============================] - 1s 2ms/step - loss: 0.0051 - accuracy: 0.3325 - val_loss: 0.4858 - val_accuracy: 0.2172\n",
      "Epoch 10/15\n",
      "600/600 [==============================] - 1s 1ms/step - loss: 0.0055 - accuracy: 0.3671 - val_loss: 0.5325 - val_accuracy: 0.2554\n",
      "Epoch 11/15\n",
      "600/600 [==============================] - 1s 1ms/step - loss: 0.0061 - accuracy: 0.3671 - val_loss: 0.4979 - val_accuracy: 0.2312\n",
      "Epoch 12/15\n",
      "600/600 [==============================] - 1s 2ms/step - loss: 0.0062 - accuracy: 0.3635 - val_loss: 0.4967 - val_accuracy: 0.2588\n",
      "Epoch 13/15\n",
      "600/600 [==============================] - 1s 2ms/step - loss: 0.0041 - accuracy: 0.3815 - val_loss: 0.4919 - val_accuracy: 0.1968\n",
      "Epoch 14/15\n",
      "600/600 [==============================] - 1s 2ms/step - loss: 0.0051 - accuracy: 0.3934 - val_loss: 0.6012 - val_accuracy: 0.2572\n",
      "Epoch 15/15\n",
      "600/600 [==============================] - 1s 2ms/step - loss: 0.0075 - accuracy: 0.3510 - val_loss: 0.4171 - val_accuracy: 0.1524\n"
     ]
    },
    {
     "data": {
      "text/plain": [
       "<tensorflow.python.keras.callbacks.History at 0x7fb4f8ea4940>"
      ]
     },
     "execution_count": 86,
     "metadata": {},
     "output_type": "execute_result"
    }
   ],
   "source": [
    "# final model\n",
    "\n",
    "model = model_final = Sequential()\n",
    "\n",
    "\n",
    "model.add(Dense(units=32, activation='relu', input_shape=(X_train_transformed_scaled.shape[1],)))\n",
    "model.add(Dropout(rate=.25))\n",
    "model.add(Dense(units=64, activation='relu'))\n",
    "model.add(Dense(units=64, activation='relu'))\n",
    "model.add(Dense(units=1, activation='sigmoid'))\n",
    "model.compile(optimizer=\"adam\", loss='binary_crossentropy', metrics=['Accuracy'])\n",
    "model.fit(X_train_transformed_scaled, y_train, validation_data=(X_test_transformed_scaled, y_test), batch_size=25, epochs=15)"
   ]
  },
  {
   "cell_type": "code",
   "execution_count": 131,
   "metadata": {},
   "outputs": [
    {
     "name": "stdout",
     "output_type": "stream",
     "text": [
      "[[2293  218]\n",
      " [ 193 2296]]\n",
      "0.9178\n"
     ]
    }
   ],
   "source": [
    "y_hat_test = model.predict_classes(X_test_transformed_scaled)\n",
    "\n",
    "cm_nn = confusion_matrix(y_test, y_hat_test)\n",
    "\n",
    "print(cm)\n",
    "print(accuracy_score(y_test, y_hat_test))"
   ]
  },
  {
   "cell_type": "code",
   "execution_count": 130,
   "metadata": {},
   "outputs": [
    {
     "name": "stdout",
     "output_type": "stream",
     "text": [
      "RFC Test confusion matrix:\n",
      "[[2286  225]\n",
      " [ 217 2272]]\n",
      "Test accuracy: 0.9116\n"
     ]
    }
   ],
   "source": [
    "cm_rfc = rfc.predict(X_test_transformed)\n",
    "\n",
    "print(\"RFC Test confusion matrix:\")\n",
    "print(confusion_matrix(y_test, cm_rfc))\n",
    "print(\"Test accuracy:\", rfc.score(X_test_transformed, y_test))"
   ]
  },
  {
   "cell_type": "markdown",
   "metadata": {},
   "source": [
    "### 5) Technical Communication\n",
    "Write a paragraph explaining whether Northwind Trading Company should switch to using your new neural network model, or continue to use the Random Forest Classifier.  Beyond a simple comparison of performance, try to take into consideration additional considerations such as:\n",
    " - Computational complexity/resource use\n",
    " - Anticipated performance on future datasets (how might the data change over time?)\n",
    " - Types of mistakes made by the two kinds of models\n",
    "You can make guesses or inferences about these considerations.\n",
    "**Include at least one visualization** comparing the two types of models.  Possible points of comparison could include ROC curves, colorized confusion matrices, or time needed to train."
   ]
  },
  {
   "cell_type": "markdown",
   "metadata": {},
   "source": [
    "Unfortunately, no, I would stick with the original random forest classifier. While the neural network model performed slightly better, the difference doesn't justify the added computational complexity and the computational resources needed, as we can see from the plot below:"
   ]
  },
  {
   "cell_type": "markdown",
   "metadata": {},
   "source": [
    "### Nueral Network Final Model Confusion Matrix"
   ]
  },
  {
   "cell_type": "code",
   "execution_count": 143,
   "metadata": {},
   "outputs": [
    {
     "name": "stdout",
     "output_type": "stream",
     "text": [
      "Confusion matrix, without normalization\n",
      "[[2293  218]\n",
      " [ 193 2296]]\n"
     ]
    },
    {
     "data": {
      "image/png": "[encoded data removed]",
      "text/plain": [
       "<Figure size 432x288 with 2 Axes>"
      ]
     },
     "metadata": {
      "needs_background": "light"
     },
     "output_type": "display_data"
    }
   ],
   "source": [
    "plot_confusion_matrix_nn(cm=cm_nn, title='Neural Network Confusion Matrix')"
   ]
  },
  {
   "cell_type": "markdown",
   "metadata": {},
   "source": [
    "### Random Forest Classifier Confusion Matrix"
   ]
  },
  {
   "cell_type": "code",
   "execution_count": 145,
   "metadata": {},
   "outputs": [
    {
     "data": {
      "image/png": "[encoded data removed]",
      "text/plain": [
       "<Figure size 432x288 with 2 Axes>"
      ]
     },
     "metadata": {
      "needs_background": "light"
     },
     "output_type": "display_data"
    }
   ],
   "source": [
    "plot_confusion_matrix(rfc, X_test_transformed, y_test, display_labels=cm_plot_labels);"
   ]
  },
  {
   "cell_type": "code",
   "execution_count": null,
   "metadata": {},
   "outputs": [],
   "source": []
  }
 ],
 "metadata": {
  "kernelspec": {
   "display_name": "Python 3",
   "language": "python",
   "name": "python3"
  },
  "language_info": {
   "codemirror_mode": {
    "name": "ipython",
    "version": 3
   },
   "file_extension": ".py",
   "mimetype": "text/x-python",
   "name": "python",
   "nbconvert_exporter": "python",
   "pygments_lexer": "ipython3",
   "version": "3.8.3"
  }
 },
 "nbformat": 4,
 "nbformat_minor": 4
}
